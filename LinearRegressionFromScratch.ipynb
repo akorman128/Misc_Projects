{
 "cells": [
  {
   "cell_type": "code",
   "execution_count": 8,
   "metadata": {},
   "outputs": [],
   "source": [
    "import numpy as np\n",
    "import matplotlib.pyplot as plt"
   ]
  },
  {
   "cell_type": "markdown",
   "metadata": {},
   "source": [
    "## Dataset w/ added uniform noise"
   ]
  },
  {
   "cell_type": "code",
   "execution_count": 9,
   "metadata": {},
   "outputs": [],
   "source": [
    "noise_range = .1\n",
    "\n",
    "noise = noise_range * np.random.rand(1000,1)\n",
    "x = (10* np.random.rand(1000,1) -5 + noise)\n"
   ]
  },
  {
   "cell_type": "code",
   "execution_count": 10,
   "metadata": {},
   "outputs": [],
   "source": [
    "noise = noise_range * np.random.rand(1000,1)\n",
    "y = 5 + 7*x + 2*x**2 - 0.5*x**3  + noise"
   ]
  },
  {
   "cell_type": "code",
   "execution_count": 11,
   "metadata": {},
   "outputs": [
    {
     "data": {
      "text/plain": [
       "<matplotlib.collections.PathCollection at 0x11243abe0>"
      ]
     },
     "execution_count": 11,
     "metadata": {},
     "output_type": "execute_result"
    },
    {
     "data": {
      "image/png": "[encoded data removed]",
      "text/plain": [
       "<Figure size 432x288 with 1 Axes>"
      ]
     },
     "metadata": {
      "needs_background": "light"
     },
     "output_type": "display_data"
    }
   ],
   "source": [
    "plt.scatter(x,y)"
   ]
  },
  {
   "cell_type": "markdown",
   "metadata": {},
   "source": [
    "## FX adds new columns to dataset of powers of X"
   ]
  },
  {
   "cell_type": "code",
   "execution_count": 12,
   "metadata": {},
   "outputs": [],
   "source": [
    "#write a function that adds new columns to the dataset of powers of x, up to and including x**n\n",
    "def new_col(array, n):\n",
    "    length = len(array)\n",
    "    # matrix of 0s, length rows by n columns\n",
    "    matrix = np.zeros((length,n+1))\n",
    "    \n",
    "    for i in range(n+1):\n",
    "        matrix[:,i] = np.reshape(array**(i),(1000,))\n",
    "    return matrix"
   ]
  },
  {
   "cell_type": "code",
   "execution_count": 13,
   "metadata": {},
   "outputs": [],
   "source": [
    "#0th – 5th degree\n",
    "model_degree = 5\n",
    "matrix = new_col(x,model_degree)"
   ]
  },
  {
   "cell_type": "markdown",
   "metadata": {},
   "source": [
    "## Linear Regression model fortraining data\n"
   ]
  },
  {
   "cell_type": "code",
   "execution_count": 17,
   "metadata": {},
   "outputs": [],
   "source": [
    "def lin_reg(eta, n_iterations, m, matrix):\n",
    "            \n",
    "    theta = np.random.randn(matrix.shape[1],1) # 6 x 1 (#of xs)\n",
    "#     theta = np.random.rand(matrix.shape[1],1)*10 - 5 \n",
    "\n",
    "    for iterations in range(n_iterations):    \n",
    "        gradients = 2/m * matrix.T.dot(matrix.dot(theta) - y)\n",
    "        theta = theta - eta * gradients\n",
    "        \n",
    "        #prints iteration if theta null... informs exploration constant\n",
    "        if np.isnan(theta).any() == True:\n",
    "            print(iterations) \n",
    "            \n",
    "    return theta\n",
    "            \n",
    "theta = lin_reg(1e-6, 100000,matrix.shape[0],matrix)"
   ]
  },
  {
   "cell_type": "markdown",
   "metadata": {},
   "source": [
    "## Plot of Final Model"
   ]
  },
  {
   "cell_type": "code",
   "execution_count": 18,
   "metadata": {},
   "outputs": [
    {
     "name": "stdout",
     "output_type": "stream",
     "text": [
      "[[ 0.09481539]\n",
      " [ 1.16535841]\n",
      " [ 2.40484056]\n",
      " [ 0.32698225]\n",
      " [-0.00621513]\n",
      " [-0.02578898]]\n"
     ]
    },
    {
     "data": {
      "image/png": "[encoded data removed]",
      "text/plain": [
       "<Figure size 432x288 with 1 Axes>"
      ]
     },
     "metadata": {
      "needs_background": "light"
     },
     "output_type": "display_data"
    }
   ],
   "source": [
    "#FIFTH DEGREE POLYNOMIAL MODEL\n",
    "\n",
    "# 1000 pts in range btwn -5,5\n",
    "model_x = np.linspace(-5,5,1000)\n",
    "\n",
    "# pass xs through 5th degree polynomial\n",
    "model_x_aug = new_col(model_x,5)\n",
    "\n",
    "# apply weights (coefficients)\n",
    "model_y = model_x_aug.dot(theta)\n",
    "\n",
    "#plot\n",
    "plt.scatter(model_x, model_y)\n",
    "plt.scatter(x,y)\n",
    "print(theta)"
   ]
  },
  {
   "cell_type": "markdown",
   "metadata": {},
   "source": [
    "## Different Model Degrees\n",
    "Note incr. degree requires lower exploration constant (alpha) to remediate divergence"
   ]
  },
  {
   "cell_type": "code",
   "execution_count": 21,
   "metadata": {},
   "outputs": [
    {
     "name": "stdout",
     "output_type": "stream",
     "text": [
      "[[ 2.64585791]\n",
      " [-0.42577428]\n",
      " [ 1.29456688]]\n"
     ]
    },
    {
     "data": {
      "image/png": "[encoded data removed]",
      "text/plain": [
       "<Figure size 432x288 with 1 Axes>"
      ]
     },
     "metadata": {
      "needs_background": "light"
     },
     "output_type": "display_data"
    }
   ],
   "source": [
    "#SECOND DEGREE POLYNOMIAL MODEL\n",
    "\n",
    "model_x_aug = new_col(model_x,2)\n",
    "\n",
    "theta = lin_reg(1e-6, 100000, model_x_aug.shape[0], model_x_aug)\n",
    "\n",
    "model_y = model_x_aug.dot(theta)\n",
    "\n",
    "plt.scatter(model_x, model_y)\n",
    "plt.scatter(x,y)\n",
    "print(theta)"
   ]
  },
  {
   "cell_type": "code",
   "execution_count": 31,
   "metadata": {},
   "outputs": [
    {
     "name": "stdout",
     "output_type": "stream",
     "text": [
      "[[ 0.00581124]\n",
      " [ 1.34551952]\n",
      " [-0.04399475]\n",
      " [ 0.03426776]\n",
      " [-0.74124862]\n",
      " [-0.166114  ]\n",
      " [-1.31301552]\n",
      " [-0.46891973]\n",
      " [ 0.13962748]\n",
      " [ 0.02124798]\n",
      " [-0.00350542]]\n"
     ]
    },
    {
     "data": {
      "image/png": "[encoded data removed]",
      "text/plain": [
       "<Figure size 432x288 with 1 Axes>"
      ]
     },
     "metadata": {
      "needs_background": "light"
     },
     "output_type": "display_data"
    }
   ],
   "source": [
    "#10TH DEGREE POLYNOMIAL MODEL\n",
    "\n",
    "model_x_aug = new_col(model_x,10)\n",
    "\n",
    "theta = lin_reg(1e-13, 1000000, model_x_aug.shape[0], model_x_aug)\n",
    "\n",
    "model_y = model_x_aug.dot(theta)\n",
    "\n",
    "plt.scatter(model_x, model_y)\n",
    "plt.scatter(x,y)\n",
    "print(theta)"
   ]
  }
 ],
 "metadata": {
  "kernelspec": {
   "display_name": "Python 3",
   "language": "python",
   "name": "python3"
  },
  "language_info": {
   "codemirror_mode": {
    "name": "ipython",
    "version": 3
   },
   "file_extension": ".py",
   "mimetype": "text/x-python",
   "name": "python",
   "nbconvert_exporter": "python",
   "pygments_lexer": "ipython3",
   "version": "3.7.0"
  }
 },
 "nbformat": 4,
 "nbformat_minor": 2
}
